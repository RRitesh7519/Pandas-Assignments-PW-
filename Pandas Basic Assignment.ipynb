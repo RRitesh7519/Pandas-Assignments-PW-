{
 "cells": [
  {
   "cell_type": "markdown",
   "id": "cfb09508",
   "metadata": {},
   "source": [
    "Q1. Create a Pandas Series that contains the following data: 4, 8, 15, 16, 23, and 42. Then, print the series."
   ]
  },
  {
   "cell_type": "code",
   "execution_count": 1,
   "id": "cae76094",
   "metadata": {},
   "outputs": [
    {
     "name": "stdout",
     "output_type": "stream",
     "text": [
      "0     4\n",
      "1     8\n",
      "2    15\n",
      "3    16\n",
      "4    23\n",
      "5    42\n",
      "dtype: int64\n"
     ]
    }
   ],
   "source": [
    "import pandas as pd\n",
    "\n",
    "data = [4, 8, 15, 16, 23, 42]\n",
    "my_series = pd.Series(data)\n",
    "\n",
    "print(my_series)"
   ]
  },
  {
   "cell_type": "markdown",
   "id": "fd70b880",
   "metadata": {},
   "source": [
    "Q2. Create a variable of list type containing 10 elements in it, and apply pandas.Series function on the\n",
    "variable print it."
   ]
  },
  {
   "cell_type": "code",
   "execution_count": 2,
   "id": "41f821ce",
   "metadata": {},
   "outputs": [
    {
     "name": "stdout",
     "output_type": "stream",
     "text": [
      "0     1\n",
      "1     2\n",
      "2     3\n",
      "3     4\n",
      "4     5\n",
      "5     6\n",
      "6     7\n",
      "7     8\n",
      "8     9\n",
      "9    10\n",
      "dtype: int64\n"
     ]
    }
   ],
   "source": [
    "my_list = [1, 2, 3, 4, 5, 6, 7, 8, 9, 10]\n",
    "\n",
    "my_series = pd.Series(my_list)\n",
    "\n",
    "print(my_series)"
   ]
  },
  {
   "cell_type": "markdown",
   "id": "bda31cef",
   "metadata": {},
   "source": [
    "Q3. Create a Pandas DataFrame that contains the following data:\n",
    "    Name          Age             Gender\n",
    "    Alice          25             Female\n",
    "     Bob           30              Male\n",
    "    Claire         27             Female"
   ]
  },
  {
   "cell_type": "code",
   "execution_count": 4,
   "id": "dab79f8e",
   "metadata": {},
   "outputs": [
    {
     "name": "stdout",
     "output_type": "stream",
     "text": [
      "     Name  Age  Gender\n",
      "0   Alice   25  Female\n",
      "1     Bob   30    Male\n",
      "2  Claire   27  Female\n"
     ]
    }
   ],
   "source": [
    "data = {'Name': ['Alice', 'Bob', 'Claire'],\n",
    "        'Age': [25, 30, 27],\n",
    "        'Gender': ['Female', 'Male', 'Female']}\n",
    "\n",
    "df = pd.DataFrame(data)\n",
    "\n",
    "print(df)"
   ]
  },
  {
   "cell_type": "markdown",
   "id": "c857b5ee",
   "metadata": {},
   "source": [
    "Q4. What is ‘DataFrame’ in pandas and how is it different from pandas.series? Explain with an example."
   ]
  },
  {
   "cell_type": "markdown",
   "id": "265f67c4",
   "metadata": {},
   "source": [
    "In Pandas, a DataFrame is a two-dimensional, tabular data structure with labeled axes (rows and columns).\n",
    "It is similar to a spreadsheet or SQL table, where data is organized in rows and columns. \n",
    "Each column in a DataFrame can be of a different data type, and you can perform various operations on the data,\n",
    "such as filtering, sorting, and aggregation.\n",
    "\n",
    "On the other hand, a Series is a one-dimensional labeled array in Pandas.It is essentially a single column of a DataFrame. A DataFrame can be thought of as a collection of Series objects, where each column is a Series.\n",
    "Example:\n",
    "series_data = pd.Series([4, 8, 15, 16, 23, 42], name='Numbers')\n",
    "\n",
    "df_data = {'Name': ['Alice', 'Bob', 'Claire'],\n",
    "           'Age': [25, 30, 27],\n",
    "           'Gender': ['Female', 'Male', 'Female']}\n",
    "df = pd.DataFrame(df_data)\n",
    "\n",
    "print(\"Pandas Series:\")\n",
    "print(series_data)\n",
    "print(\"\\nPandas DataFrame:\")\n",
    "print(df)\n"
   ]
  },
  {
   "cell_type": "markdown",
   "id": "574314b9",
   "metadata": {},
   "source": [
    "Q5. What are some common functions you can use to manipulate data in a Pandas DataFrame? Can you give an example of when you might use one of these functions?"
   ]
  },
  {
   "cell_type": "markdown",
   "id": "04c963bd",
   "metadata": {},
   "source": [
    "head() and tail(): Display the first or last few rows of the DataFrame.\n",
    "df.head()\n",
    "df.tail(3)\n",
    "\n",
    "info(): Provides a concise summary of the DataFrame, including data types and missing values.\n",
    "df.info()\n",
    "\n",
    "set_index() and reset_index(): Set and reset the index of the DataFrame.\n",
    "df.set_index('Name', inplace=True)\n",
    "df.reset_index(inplace=True)\n",
    "\n",
    "loc[] and iloc[]: Access a group of rows and columns by labels or integer location."
   ]
  },
  {
   "cell_type": "markdown",
   "id": "32fb5e27",
   "metadata": {},
   "source": [
    "Q6. Which of the following is mutable in nature Series, DataFrame, Panel?"
   ]
  },
  {
   "cell_type": "markdown",
   "id": "e68c17eb",
   "metadata": {},
   "source": [
    "In Pandas, a Series is mutable, while a DataFrame is mutable as well. However, the Panel is considered deprecated and is not recommended for use in recent versions of Pandas."
   ]
  },
  {
   "cell_type": "markdown",
   "id": "8b6dfcdb",
   "metadata": {},
   "source": [
    "Q7. Create a DataFrame using multiple Series. Explain with an example."
   ]
  },
  {
   "cell_type": "code",
   "execution_count": 6,
   "id": "230a1328",
   "metadata": {},
   "outputs": [
    {
     "name": "stdout",
     "output_type": "stream",
     "text": [
      "     Name  Age  Gender\n",
      "0   Alice   25  Female\n",
      "1     Bob   30    Male\n",
      "2  Claire   27  Female\n"
     ]
    }
   ],
   "source": [
    "name_series = pd.Series(['Alice', 'Bob', 'Claire'], name='Name')\n",
    "age_series = pd.Series([25, 30, 27], name='Age')\n",
    "gender_series = pd.Series(['Female', 'Male', 'Female'], name='Gender')\n",
    "\n",
    "data = {'Name': name_series, 'Age': age_series, 'Gender': gender_series}\n",
    "df = pd.DataFrame(data)\n",
    "\n",
    "print(df)\n"
   ]
  }
 ],
 "metadata": {
  "kernelspec": {
   "display_name": "Python 3",
   "language": "python",
   "name": "python3"
  },
  "language_info": {
   "codemirror_mode": {
    "name": "ipython",
    "version": 3
   },
   "file_extension": ".py",
   "mimetype": "text/x-python",
   "name": "python",
   "nbconvert_exporter": "python",
   "pygments_lexer": "ipython3",
   "version": "3.8.8"
  }
 },
 "nbformat": 4,
 "nbformat_minor": 5
}
