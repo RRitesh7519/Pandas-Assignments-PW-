{
 "cells": [
  {
   "cell_type": "markdown",
   "id": "94abd3fc",
   "metadata": {},
   "source": [
    "Consider following code to answer further questions:\n",
    "import pandas as pd\n",
    "course_name = [‘Data Science’, ‘Machine Learning’, ‘Big Data’, ‘Data Engineer’]\n",
    "duration = [2,3,6,4]\n",
    "df = pd.DataFrame(data = {‘course_name’ : course_name, ‘duration’ : duration})\n",
    "Q1. Write a code to print the data present in the second row of the dataframe, df."
   ]
  },
  {
   "cell_type": "code",
   "execution_count": 1,
   "id": "65d2402d",
   "metadata": {},
   "outputs": [
    {
     "name": "stdout",
     "output_type": "stream",
     "text": [
      "course_name    Machine Learning\n",
      "duration                      3\n",
      "Name: 1, dtype: object\n"
     ]
    }
   ],
   "source": [
    "import pandas as pd\n",
    "\n",
    "course_name = ['Data Science', 'Machine Learning', 'Big Data', 'Data Engineer']\n",
    "duration = [2, 3, 6, 4]\n",
    "df = pd.DataFrame(data={'course_name': course_name, 'duration': duration})\n",
    "second_row_data = df.iloc[1]\n",
    "print(second_row_data)"
   ]
  },
  {
   "cell_type": "markdown",
   "id": "34a3d666",
   "metadata": {},
   "source": [
    "Q2. What is the difference between the functions loc and iloc in pandas.DataFrame?"
   ]
  },
  {
   "cell_type": "markdown",
   "id": "3df74ac9",
   "metadata": {},
   "source": [
    "Use loc when you want to select based on labels (names) of rows or columns.\n",
    "Use iloc when you want to select based on numerical indices (positions) of rows or columns."
   ]
  },
  {
   "cell_type": "markdown",
   "id": "10b84dd1",
   "metadata": {},
   "source": [
    "Q3. Reindex the given dataframe using a variable, reindex = [3,0,1,2] and store it in the variable, new_df\n",
    "then find the output for both new_df.loc[2] and new_df.iloc[2].\n",
    "Did you observe any difference in both the outputs? If so then explain it."
   ]
  },
  {
   "cell_type": "code",
   "execution_count": 2,
   "id": "4ed1b418",
   "metadata": {},
   "outputs": [
    {
     "name": "stdout",
     "output_type": "stream",
     "text": [
      "Output for new_df.loc[2]:\n",
      " course_name    Big Data\n",
      "duration              6\n",
      "Name: 2, dtype: object\n",
      "\n",
      "Output for new_df.iloc[2]:\n",
      " course_name    Machine Learning\n",
      "duration                      3\n",
      "Name: 1, dtype: object\n"
     ]
    }
   ],
   "source": [
    "reindex_order = [3, 0, 1, 2]\n",
    "new_df = df.reindex(reindex_order)\n",
    "\n",
    "output_loc = new_df.loc[2]\n",
    "\n",
    "output_iloc = new_df.iloc[2]\n",
    "\n",
    "print(\"Output for new_df.loc[2]:\\n\", output_loc)\n",
    "print(\"\\nOutput for new_df.iloc[2]:\\n\", output_iloc)"
   ]
  },
  {
   "cell_type": "markdown",
   "id": "e12f8d1e",
   "metadata": {},
   "source": [
    "Consider the below code to answer further questions:\n",
    "import pandas as pd\n",
    "import numpy as np\n",
    "columns = ['column_1', 'column_2', 'column_3', 'column_4', 'column_5', 'column_6']\n",
    "indices = [1,2,3,4,5,6]\n",
    "#Creating a dataframe:\n",
    "df1 = pd.DataFrame(np.random.rand(6,6), columns = columns, index = indices)\n",
    "Q4. Write a code to find the following statistical measurements for the above dataframe df1:\n",
    "(i) mean of each and every column present in the dataframe.\n",
    "(ii) standard deviation of column, ‘column_2’"
   ]
  },
  {
   "cell_type": "code",
   "execution_count": 3,
   "id": "e5e87f3c",
   "metadata": {},
   "outputs": [
    {
     "name": "stdout",
     "output_type": "stream",
     "text": [
      "Mean of each column:\n",
      " column_1    0.450563\n",
      "column_2    0.651537\n",
      "column_3    0.492780\n",
      "column_4    0.600055\n",
      "column_5    0.661548\n",
      "column_6    0.588316\n",
      "dtype: float64\n",
      "\n",
      "Standard deviation of 'column_2': 0.1501846970462821\n"
     ]
    }
   ],
   "source": [
    "import pandas as pd\n",
    "import numpy as np\n",
    "\n",
    "columns = ['column_1', 'column_2', 'column_3', 'column_4', 'column_5', 'column_6']\n",
    "indices = [1, 2, 3, 4, 5, 6]\n",
    "df1 = pd.DataFrame(np.random.rand(6, 6), columns=columns, index=indices)\n",
    "\n",
    "column_means = df1.mean()\n",
    "\n",
    "std_dev_column_2 = df1['column_2'].std()\n",
    "\n",
    "print(\"Mean of each column:\\n\", column_means)\n",
    "print(\"\\nStandard deviation of 'column_2':\", std_dev_column_2)"
   ]
  },
  {
   "cell_type": "markdown",
   "id": "4466770b",
   "metadata": {},
   "source": [
    "Q5. Replace the data present in the second row of column, ‘column_2’ by a string variable then find the\n",
    "mean of column, column_2.\n",
    "If you are getting errors in executing it then explain why.\n",
    "[Hint: To replace the data use df1.loc[] and equate this to string data of your choice.]"
   ]
  },
  {
   "cell_type": "code",
   "execution_count": 4,
   "id": "97c4f7c3",
   "metadata": {},
   "outputs": [
    {
     "name": "stdout",
     "output_type": "stream",
     "text": [
      "DataFrame after attempting to replace the data:\n",
      "   column_1    column_2  column_3  column_4  column_5  column_6\n",
      "1  0.110273     0.71626  0.632004  0.505570  0.648401  0.857158\n",
      "2  0.846147  StringData  0.650822  0.852996  0.425868  0.741845\n",
      "3  0.740417    0.222741  0.976991  0.239674  0.824529  0.539726\n",
      "4  0.085488    0.637999  0.268954  0.363022  0.428730  0.782955\n",
      "5  0.945026    0.623752  0.489373  0.516232  0.127950  0.286778\n",
      "6  0.201568    0.529745  0.401528  0.231773  0.246159  0.941269\n",
      "\n",
      "Error: unsupported operand type(s) for +: 'float' and 'str'\n"
     ]
    }
   ],
   "source": [
    "import pandas as pd\n",
    "import numpy as np\n",
    "\n",
    "columns = ['column_1', 'column_2', 'column_3', 'column_4', 'column_5', 'column_6']\n",
    "indices = [1, 2, 3, 4, 5, 6]\n",
    "\n",
    "df1 = pd.DataFrame(np.random.rand(6, 6), columns=columns, index=indices)\n",
    "\n",
    "df1.loc[2, 'column_2'] = 'StringData'\n",
    "\n",
    "print(\"DataFrame after attempting to replace the data:\")\n",
    "print(df1)\n",
    "\n",
    "try:\n",
    "    mean_column_2 = df1['column_2'].mean()\n",
    "    print(\"\\nMean of 'column_2':\", mean_column_2)\n",
    "except Exception as e:\n",
    "    print(\"\\nError:\", str(e))"
   ]
  },
  {
   "cell_type": "markdown",
   "id": "aed708a5",
   "metadata": {},
   "source": [
    "Q6. What do you understand about the windows function in pandas and list the types of windows\n",
    "functions?"
   ]
  },
  {
   "cell_type": "markdown",
   "id": "55cf6230",
   "metadata": {},
   "source": [
    "In Pandas, a window function is a powerful tool for performing operations on a set of data points within a specified window, which can slide or expand over the data. These functions are particularly useful for time-series data and can be applied to DataFrame or Series objects. The general idea is to perform some computation over a specified window of data points and generate a new set of values.\n",
    "\n",
    "The types of window functions in Pandas are broadly categorized into two main groups:\n",
    "\n",
    "Rolling Windows:\n",
    "Rolling windows operate on a fixed-size subset of the data, moving through the data one step at a time.\n",
    "Common rolling window functions include mean, sum, min, max, etc.\n",
    "Expanding Windows:\n",
    "Expanding windows include all data points from the beginning up to the current point.\n",
    "These windows gradually expand as more data becomes available."
   ]
  },
  {
   "cell_type": "markdown",
   "id": "b194eac6",
   "metadata": {},
   "source": [
    "Q7. Write a code to print only the current month and year at the time of answering this question.\n",
    "[Hint: Use pandas.datetime function]"
   ]
  },
  {
   "cell_type": "code",
   "execution_count": 6,
   "id": "9a480f4e",
   "metadata": {},
   "outputs": [
    {
     "name": "stdout",
     "output_type": "stream",
     "text": [
      "Current Month and Year: January 2024\n"
     ]
    }
   ],
   "source": [
    "import pandas as pd\n",
    "from datetime import datetime\n",
    "\n",
    "current_date = datetime.now()\n",
    "\n",
    "current_date_pd = pd.to_datetime(current_date)\n",
    "\n",
    "print(\"Current Month and Year:\", current_date_pd.strftime('%B %Y'))"
   ]
  },
  {
   "cell_type": "markdown",
   "id": "9ae7af48",
   "metadata": {},
   "source": [
    "Q8. Write a Python program that takes in two dates as input (in the format YYYY-MM-DD) and\n",
    "calculates the difference between them in days, hours, and minutes using Pandas time delta. The\n",
    "program should prompt the user to enter the dates and display the result."
   ]
  },
  {
   "cell_type": "code",
   "execution_count": 7,
   "id": "cad071a1",
   "metadata": {},
   "outputs": [
    {
     "name": "stdout",
     "output_type": "stream",
     "text": [
      "Enter the first date (YYYY-MM-DD): 2022-08-31\n",
      "Enter the second date (YYYY-MM-DD): 2024-01-11\n",
      "\n",
      "Time Difference:\n",
      "Days: 498\n",
      "Hours: 0\n",
      "Minutes: 0\n"
     ]
    }
   ],
   "source": [
    "def calculate_time_difference():\n",
    "    date_str1 = input(\"Enter the first date (YYYY-MM-DD): \")\n",
    "    date_str2 = input(\"Enter the second date (YYYY-MM-DD): \")\n",
    "\n",
    "    try:\n",
    "        date1 = pd.to_datetime(date_str1)\n",
    "        date2 = pd.to_datetime(date_str2)\n",
    "\n",
    "        time_difference = date2 - date1\n",
    "\n",
    "        print(\"\\nTime Difference:\")\n",
    "        print(\"Days:\", time_difference.days)\n",
    "        print(\"Hours:\", time_difference.seconds // 3600)\n",
    "        print(\"Minutes:\", (time_difference.seconds // 60) % 60)\n",
    "\n",
    "    except ValueError:\n",
    "        print(\"Invalid date format. Please enter dates in the format YYYY-MM-DD.\")\n",
    "\n",
    "calculate_time_difference()"
   ]
  },
  {
   "cell_type": "markdown",
   "id": "7f331b5e",
   "metadata": {},
   "source": [
    "Q9. Write a Python program that reads a CSV file containing categorical data and converts a specified\n",
    "column to a categorical data type. The program should prompt the user to enter the file path, column\n",
    "name, and category order, and then display the sorted data."
   ]
  },
  {
   "cell_type": "markdown",
   "id": "dc1f93fa",
   "metadata": {},
   "source": [
    "import pandas as pd\n",
    "\n",
    "def convert_to_categorical():\n",
    "    file_path = input(\"Enter the CSV file path: \")\n",
    "\n",
    "    try:\n",
    "        df = pd.read_csv(file_path)\n",
    "\n",
    "        print(\"\\nAvailable Columns:\")\n",
    "        print(df.columns)\n",
    "\n",
    "        column_name = input(\"\\nEnter the column name to convert to categorical: \")\n",
    "\n",
    "        category_order_str = input(\"\\nEnter the category order (comma-separated): \")\n",
    "        category_order = [category.strip() for category in category_order_str.split(',')]\n",
    "        df[column_name] = pd.Categorical(df[column_name], categories=category_order, ordered=True)\n",
    "\n",
    "        sorted_data = df.sort_values(by=[column_name])\n",
    "        print(\"\\nSorted Data:\")\n",
    "        print(sorted_data)\n",
    "\n",
    "    except FileNotFoundError:\n",
    "        print(\"File not found. Please enter a valid file path.\")\n",
    "    except KeyError:\n",
    "        print(\"Invalid column name. Please enter a valid column name.\")\n",
    "\n",
    "convert_to_categorical()"
   ]
  },
  {
   "cell_type": "markdown",
   "id": "8629e99d",
   "metadata": {},
   "source": [
    "Q10. Write a Python program that reads a CSV file containing sales data for different products and\n",
    "visualizes the data using a stacked bar chart to show the sales of each product category over time. The\n",
    "program should prompt the user to enter the file path and display the chart."
   ]
  },
  {
   "cell_type": "markdown",
   "id": "f2c667ea",
   "metadata": {},
   "source": [
    "import pandas as pd\n",
    "import matplotlib.pyplot as plt\n",
    "\n",
    "def visualize_sales_data():\n",
    "    file_path = input(\"Enter the CSV file path: \")\n",
    "\n",
    "    try:\n",
    "        df = pd.read_csv(file_path)\n",
    "        print(\"\\nAvailable Columns:\")\n",
    "        print(df.columns)\n",
    "\n",
    "        time_column = input(\"\\nEnter the column name for time (e.g., date): \")\n",
    "        category_column = input(\"Enter the column name for product category: \")\n",
    "        sales_column = input(\"Enter the column name for sales: \")\n",
    "\n",
    "        pivot_df = df.pivot(index=time_column, columns=category_column, values=sales_column)\n",
    "\n",
    "        pivot_df.plot(kind='bar', stacked=True, figsize=(10, 6))\n",
    "        plt.title('Stacked Bar Chart of Sales by Product Category Over Time')\n",
    "        plt.xlabel(time_column)\n",
    "        plt.ylabel('Sales')\n",
    "        plt.legend(title=category_column, bbox_to_anchor=(1.05, 1), loc='upper left')\n",
    "        plt.show()\n",
    "\n",
    "    except FileNotFoundError:\n",
    "        print(\"File not found. Please enter a valid file path.\")\n",
    "    except KeyError:\n",
    "        print(\"Invalid column name. Please enter valid column names.\")\n",
    "\n",
    "visualize_sales_data()\n"
   ]
  },
  {
   "cell_type": "markdown",
   "id": "6555ef9c",
   "metadata": {},
   "source": [
    "Q11. You are given a CSV file containing student data that includes the student ID and their test score. Write\n",
    "a Python program that reads the CSV file, calculates the mean, median, and mode of the test scores, and\n",
    "displays the results in a table.\n",
    "The program should do the followingM\n",
    "I Prompt the user to enter the file path of the CSV file containing the student dataR\n",
    "I Read the CSV file into a Pandas DataFrameR\n",
    "I Calculate the mean, median, and mode of the test scores using Pandas toolsR\n",
    "I Display the mean, median, and mode in a table.\n",
    "Assume the CSV file contains the following columnsM\n",
    "I Student ID: The ID of the studentR\n",
    "I Test Score: The score of the student's test.\n",
    "Example usage of the program:\n",
    "Enter the file path of the CSV file containing the student data: student_data.csv\n",
    "+-----------+--------+\n",
    "| Statistic | Value |\n",
    "+-----------+--------+\n",
    "| Mean | 79.6 |\n",
    "| Median | 82 |\n",
    "| Mode | 85, 90 |\n",
    "+-----------+--------+\n",
    "Assume that the CSV file student_data.csv contains the following data:\n",
    "Student ID,Test Score\n",
    "1,85\n",
    "2,90\n",
    "3,80\n",
    "4,75\n",
    "5,85\n",
    "6,82\n",
    "7,78\n",
    "8,85\n",
    "9,90\n",
    "10,85\n",
    "The program should calculate the mean, median, and mode of the test scores and display the results\n",
    "in a table."
   ]
  },
  {
   "cell_type": "markdown",
   "id": "c82a30f3",
   "metadata": {},
   "source": [
    "def calculate_statistics(file_path):\n",
    "    try:\n",
    "        df = pd.read_csv(file_path)\n",
    "\n",
    "        mean_score = df['Test Score'].mean()\n",
    "        median_score = df['Test Score'].median()\n",
    "        mode_scores = df['Test Score'].mode()\n",
    "\n",
    "        results_table = pd.DataFrame({\n",
    "            'Statistic': ['Mean', 'Median', 'Mode'],\n",
    "            'Value': [mean_score, median_score, ', '.join(map(str, mode_scores))]\n",
    "        })\n",
    "\n",
    "        print(\"\\n+-----------+--------+\")\n",
    "        print(\"| Statistic | Value  |\")\n",
    "        print(\"+-----------+--------+\")\n",
    "        for _, row in results_table.iterrows():\n",
    "            print(f\"| {row['Statistic']}    | {row['Value']} |\")\n",
    "        print(\"+-----------+--------+\")\n",
    "\n",
    "    except FileNotFoundError:\n",
    "        print(\"File not found. Please enter a valid file path.\")\n",
    "    except KeyError:\n",
    "        print(\"Invalid column names in the CSV file.\")\n",
    "\n",
    "file_path = input(\"Enter the file path of the CSV file containing the student data: \")\n",
    "\n",
    "calculate_statistics(file_path)"
   ]
  }
 ],
 "metadata": {
  "kernelspec": {
   "display_name": "Python 3",
   "language": "python",
   "name": "python3"
  },
  "language_info": {
   "codemirror_mode": {
    "name": "ipython",
    "version": 3
   },
   "file_extension": ".py",
   "mimetype": "text/x-python",
   "name": "python",
   "nbconvert_exporter": "python",
   "pygments_lexer": "ipython3",
   "version": "3.8.8"
  }
 },
 "nbformat": 4,
 "nbformat_minor": 5
}
